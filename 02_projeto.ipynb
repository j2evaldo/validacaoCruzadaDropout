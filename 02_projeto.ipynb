{
 "cells": [
  {
   "cell_type": "markdown",
   "metadata": {},
   "source": [
    "# **Classificação Bin[aria com Brest Cancer com validação cruzada e dropout**"
   ]
  },
  {
   "cell_type": "markdown",
   "metadata": {},
   "source": [
    "## **1:Importação das bibliotecas**"
   ]
  },
  {
   "cell_type": "code",
   "execution_count": 1,
   "metadata": {},
   "outputs": [],
   "source": [
    "# Biblioteca complementar para validação cruzada do Pytorch\n",
    "# !pip install skorch"
   ]
  },
  {
   "cell_type": "code",
   "execution_count": 2,
   "metadata": {},
   "outputs": [],
   "source": [
    "import pandas as pd\n",
    "import numpy as np\n",
    "import torch.nn as nn\n",
    "from skorch import NeuralNetBinaryClassifier\n",
    "import torch\n",
    "from sklearn.model_selection import cross_val_score\n",
    "\n",
    "import seaborn as sns\n",
    "sns.set()"
   ]
  },
  {
   "cell_type": "code",
   "execution_count": 3,
   "metadata": {},
   "outputs": [],
   "source": [
    "import pandas as pd\n",
    "import numpy as np\n",
    "import torch.nn as nn\n",
    "import skorch    \n",
    "from skorch import NeuralNetBinaryClassifier\n",
    "import torch\n",
    "import seaborn as sns\n",
    "import sklearn\n",
    "from sklearn.model_selection import cross_val_score"
   ]
  },
  {
   "cell_type": "code",
   "execution_count": 4,
   "metadata": {},
   "outputs": [],
   "source": [
    "previsores = pd.read_csv('entradas_breast.csv')\n",
    "classe = pd.read_csv('saidas_breast.csv')"
   ]
  },
  {
   "cell_type": "code",
   "execution_count": 5,
   "metadata": {},
   "outputs": [],
   "source": [
    "previsores = np.array(previsores, dtype='float32')\n",
    "classe = np.array(classe, dtype='float32').squeeze(1)"
   ]
  },
  {
   "cell_type": "markdown",
   "metadata": {},
   "source": [
    "## **2.Classe para estrutura da rede Neural**"
   ]
  },
  {
   "cell_type": "code",
   "execution_count": 6,
   "metadata": {},
   "outputs": [],
   "source": [
    "class classificador_torch(nn.Module):\n",
    "  def __init__(self):\n",
    "    super().__init__()\n",
    "\n",
    "    # 30 -> 16 -> 16 -> 1\n",
    "    self.dense0 = nn.Linear(30, 16)\n",
    "    torch.nn.init.uniform_(self.dense0.weight)\n",
    "    self.activation0 = nn.ReLU()\n",
    "    self.dense1 = nn.Linear(16, 16)\n",
    "    torch.nn.init.uniform_(self.dense1.weight)\n",
    "    self.activation1 = nn.ReLU()\n",
    "    self.dense2 = nn.Linear(16, 1)\n",
    "    torch.nn.init.uniform_(self.dense2.weight)\n",
    "\n",
    "\n",
    "  def forward(self, X):\n",
    "    X = self.dense0(X)\n",
    "    X = self.activation0(X)\n",
    "    X = self.dense1(X)\n",
    "    X = self.activation1(X)\n",
    "    X = self.dense2(X)\n",
    "    return X"
   ]
  },
  {
   "cell_type": "markdown",
   "metadata": {},
   "source": [
    "## **3.Sckorch**"
   ]
  },
  {
   "cell_type": "code",
   "execution_count": 7,
   "metadata": {},
   "outputs": [],
   "source": [
    "classificador_sklearn = NeuralNetBinaryClassifier(module=classificador_torch,\n",
    "                                                  criterion=torch.nn.BCEWithLogitsLoss, # ** ATUALIZAÇÃO **\n",
    "                                                  optimizer=torch.optim.Adam,\n",
    "                                                  lr=0.001,\n",
    "                                                  optimizer__weight_decay=0.0001,\n",
    "                                                  max_epochs=100,\n",
    "                                                  batch_size=10,\n",
    "                                                  train_split=False)"
   ]
  },
  {
   "cell_type": "markdown",
   "metadata": {},
   "source": [
    "### **3.1.Validação Cruzada**"
   ]
  },
  {
   "cell_type": "code",
   "execution_count": null,
   "metadata": {},
   "outputs": [],
   "source": [
    "resultados = cross_val_score(classificador_sklearn, previsores, classe, cv = 10, scoring = 'accuracy');"
   ]
  },
  {
   "cell_type": "code",
   "execution_count": 9,
   "metadata": {},
   "outputs": [
    {
     "data": {
      "text/plain": [
       "74.0"
      ]
     },
     "execution_count": 9,
     "metadata": {},
     "output_type": "execute_result"
    }
   ],
   "source": [
    "# Média de score\n",
    "round(resultados.mean(),2) *100"
   ]
  },
  {
   "cell_type": "code",
   "execution_count": 10,
   "metadata": {},
   "outputs": [
    {
     "data": {
      "text/plain": [
       "13.0"
      ]
     },
     "execution_count": 10,
     "metadata": {},
     "output_type": "execute_result"
    }
   ],
   "source": [
    "# Desvio Padrão (Ficou alto pra caralho)\n",
    "round(resultados.std(),2) * 100"
   ]
  },
  {
   "cell_type": "markdown",
   "metadata": {},
   "source": [
    "### **4.Dropout**"
   ]
  },
  {
   "cell_type": "code",
   "execution_count": 16,
   "metadata": {},
   "outputs": [],
   "source": [
    "\n",
    "class classificador_torch(nn.Module):\n",
    "  def __init__(self):\n",
    "    super().__init__()\n",
    "\n",
    "    # 30 -> 16 -> 16 -> 1\n",
    "    self.dense0 = nn.Linear(30, 16)\n",
    "    torch.nn.init.uniform_(self.dense0.weight)\n",
    "    self.activation0 = nn.ReLU()\n",
    "    self.droout0 = nn.Dropout(0.2)\n",
    "\n",
    "    self.dense1 = nn.Linear(16, 16)\n",
    "    torch.nn.init.uniform_(self.dense1.weight)\n",
    "    self.activation1 = nn.ReLU()\n",
    "    self.droout1 = nn.Dropout(0.2)\n",
    "    \n",
    "    self.dense2 = nn.Linear(16, 1)\n",
    "    torch.nn.init.uniform_(self.dense2.weight)\n",
    "    self.output = nn.Sigmoid()\n",
    "\n",
    "\n",
    "  def forward(self, X):\n",
    "    X = self.dense0(X)\n",
    "    X = self.activation0(X)\n",
    "    X = self.dense1(X)\n",
    "    X = self.activation1(X)\n",
    "    X = self.dense2(X)\n",
    "    return X\n"
   ]
  },
  {
   "cell_type": "code",
   "execution_count": 17,
   "metadata": {},
   "outputs": [],
   "source": [
    "classificador_dropout = NeuralNetBinaryClassifier(module=classificador_torch,\n",
    "                                                  criterion=torch.nn.BCEWithLogitsLoss, # ** ATUALIZAÇÃO **\n",
    "                                                  optimizer=torch.optim.Adam,\n",
    "                                                  lr=0.001,\n",
    "                                                  optimizer__weight_decay=0.0001,\n",
    "                                                  max_epochs=100,\n",
    "                                                  batch_size=10,\n",
    "                                                  train_split=False)"
   ]
  },
  {
   "cell_type": "code",
   "execution_count": null,
   "metadata": {},
   "outputs": [],
   "source": [
    "resultadosDrop = cross_val_score(classificador_dropout, previsores, classe, cv = 10, scoring = 'accuracy');"
   ]
  },
  {
   "cell_type": "code",
   "execution_count": 26,
   "metadata": {},
   "outputs": [
    {
     "name": "stdout",
     "output_type": "stream",
     "text": [
      "Média 84.0%\n",
      "Desvio Padrão 13.0\n"
     ]
    }
   ],
   "source": [
    "print(f'Média {round(resultadosDrop.mean(),2) * 100}%')\n",
    "print(f'Desvio Padrão {round(resultados.std(),2) * 100}')\n"
   ]
  },
  {
   "cell_type": "code",
   "execution_count": null,
   "metadata": {},
   "outputs": [],
   "source": []
  }
 ],
 "metadata": {
  "kernelspec": {
   "display_name": "Python 3.9.7 ('base')",
   "language": "python",
   "name": "python3"
  },
  "language_info": {
   "codemirror_mode": {
    "name": "ipython",
    "version": 3
   },
   "file_extension": ".py",
   "mimetype": "text/x-python",
   "name": "python",
   "nbconvert_exporter": "python",
   "pygments_lexer": "ipython3",
   "version": "3.9.7"
  },
  "orig_nbformat": 4,
  "vscode": {
   "interpreter": {
    "hash": "51166b0016d98ce2a19c197fe17fa45ef0006c1c01f1d4e1a0c837f841793b9a"
   }
  }
 },
 "nbformat": 4,
 "nbformat_minor": 2
}
